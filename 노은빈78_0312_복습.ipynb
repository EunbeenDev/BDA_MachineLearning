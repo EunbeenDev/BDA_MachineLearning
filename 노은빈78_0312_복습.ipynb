{
 "cells": [
  {
   "cell_type": "code",
   "execution_count": 2,
   "metadata": {},
   "outputs": [],
   "source": [
    "from sklearn.datasets import load_iris\n",
    "from sklearn.tree import DecisionTreeClassifier\n",
    "from sklearn.model_selection import train_test_split\n",
    "from sklearn.metrics import accuracy_score, precision_score, recall_score #Confusion matrix 수업 때 진행할 예정 \n",
    "from sklearn.model_selection import KFold\n",
    "from sklearn.metrics import classification_report\n",
    "import numpy as np\n",
    "import pandas as pd"
   ]
  },
  {
   "attachments": {},
   "cell_type": "markdown",
   "metadata": {},
   "source": [
    "### 교차검증\n",
    "* 전체 데이터를 train/test로 나누게 되면 과적합(overfitting)이 발생할 확률이 높다.\n",
    "* 과적합이란 모델이 train 데이터에 과하게 최적화되는 것을 말하여, 과적합이 발생하면, 다른 데이터로 수행했을 때 예측 성능이 크게 떨어지는 문제가 생긴다.\n",
    "* train의 정확도가 test 정확도보다 높다.\n",
    "* 만약 train의 정확도는 낮은데 test의 정확도가 높다면, 과대적합 또는 과소적합의 문제가 발생한 것이다.\n",
    "* 데이터의 편중 현상을 막기 위해 여러 개의 데이터셋으로 구성된 별개의 train set 과 test set으로 train과 test를 진행하는 방법\n",
    "* 수행 결과에 따라 하이퍼파라미터 튜닝 등의 모델 최적화를 진행하게 된다."
   ]
  },
  {
   "attachments": {},
   "cell_type": "markdown",
   "metadata": {},
   "source": [
    "# 파라미터 VS. 하이퍼파라미터\n",
    "## 파라미터\n",
    "* 모델 내부에서 결정되는 매개변수\n",
    "* 데이터로부터 결정되는 값\n",
    "\n",
    "## 하이퍼파라미터\n",
    "* 모델링 시에 사용자가 직접 설정하는 값\n",
    "* 정해진 최적의 값이 존재하는 것이 아닌, 여러 법칙에 따라 사용자가 직접 설정하며, 자동으로 하이퍼 파라미터를 선택해주는 라이브러리를 통해 정할 수 있다."
   ]
  },
  {
   "cell_type": "code",
   "execution_count": 4,
   "metadata": {},
   "outputs": [],
   "source": [
    "fold_iris=load_iris()\n",
    "features=fold_iris.data\n",
    "\n",
    "label=fold_iris.target\n",
    "fold_df_clf=DecisionTreeClassifier()"
   ]
  },
  {
   "attachments": {},
   "cell_type": "markdown",
   "metadata": {},
   "source": [
    "### 교차검증 코드"
   ]
  },
  {
   "cell_type": "code",
   "execution_count": 5,
   "metadata": {},
   "outputs": [],
   "source": [
    "kfold=KFold(n_splits=5)\n",
    "# fold set 개수를 5개로 설정하여 각 정확도를 list에 담아 평균 등을 살펴볼 것이다.\n",
    "# 정확도, 정밀도, 재현율 빈 리스트 생성\n",
    "cv_accuracy=[]\n",
    "cv_precision=[]\n",
    "cv_recall=[]"
   ]
  },
  {
   "cell_type": "code",
   "execution_count": 6,
   "metadata": {},
   "outputs": [
    {
     "data": {
      "text/plain": [
       "<generator object _BaseKFold.split at 0x000001D2C1319580>"
      ]
     },
     "execution_count": 6,
     "metadata": {},
     "output_type": "execute_result"
    }
   ],
   "source": [
    "kfold.split(features)"
   ]
  },
  {
   "cell_type": "code",
   "execution_count": 10,
   "metadata": {},
   "outputs": [
    {
     "name": "stdout",
     "output_type": "stream",
     "text": [
      "\n",
      "1 교차검증 정확도: 1.0, 교차검증 precision: 0.0, 교차검증 recall: 0.0\n",
      "\n",
      "2 교차검증 정확도: 1.0, 교차검증 precision: 0.0, 교차검증 recall: 0.0\n",
      "\n",
      "3 교차검증 정확도: 0.83333, 교차검증 precision: 0.0, 교차검증 recall: 0.0\n",
      "\n",
      "4 교차검증 정확도: 0.93333, 교차검증 precision: 0.0, 교차검증 recall: 0.0\n",
      "\n",
      "5 교차검증 정확도: 0.8, 교차검증 precision: 0.0, 교차검증 recall: 0.0\n",
      "\n",
      "\n",
      "\n",
      " 평균정확도  0.8\n"
     ]
    }
   ],
   "source": [
    "n_iter=0\n",
    "for train_idx, test_idx in kfold.split(features):\n",
    "  X_train, X_test=features[train_idx], features[test_idx]\n",
    "  \n",
    "  y_train, y_test=label[train_idx],label[test_idx]\n",
    "  \n",
    "  #train\n",
    "  fold_df_clf.fit(X_train, y_train)\n",
    "  \n",
    "  #predict\n",
    "  fold_pred=fold_df_clf.predict(X_test)\n",
    "  \n",
    "  #정확도 측정\n",
    "  n_iter+=1\n",
    "  accuracy=np.round(accuracy_score(y_test,fold_pred),5)\n",
    "  #precision=np.round(precision_score(y_test,fold_pred),5)\n",
    "  #recall=np.round(recall_score(y_test,fold_pred),5)\n",
    "  print('\\n{} 교차검증 정확도: {}, 교차검증 precision: {}, 교차검증 recall: {}'.format(n_iter,accuracy,precision,recall))\n",
    "  \n",
    "  cv_accuracy.append(accuracy)\n",
    "  #cv_precision.append(precision)\n",
    "  #cv_recall.append(recall)\n",
    "  \n",
    "print('\\n')\n",
    "print('\\n 평균정확도 ',np.mean(accuracy))\n",
    "#print('\\n 평균 검증 정확도', np.mean(cv_accuracy),np.mean(cv_precision)),np.mean(cv_recall)"
   ]
  },
  {
   "cell_type": "code",
   "execution_count": 11,
   "metadata": {},
   "outputs": [
    {
     "data": {
      "text/plain": [
       "array([0, 0, 0, 0, 0, 0, 0, 0, 0, 0, 0, 0, 0, 0, 0, 0, 0, 0, 0, 0, 0, 0,\n",
       "       0, 0, 0, 0, 0, 0, 0, 0, 0, 0, 0, 0, 0, 0, 0, 0, 0, 0, 0, 0, 0, 0,\n",
       "       0, 0, 0, 0, 0, 0, 1, 1, 1, 1, 1, 1, 1, 1, 1, 1, 1, 1, 1, 1, 1, 1,\n",
       "       1, 1, 1, 1, 1, 1, 1, 1, 1, 1, 1, 1, 1, 1, 1, 1, 1, 1, 1, 1, 1, 1,\n",
       "       1, 1, 1, 1, 1, 1, 1, 1, 1, 1, 1, 1, 2, 2, 2, 2, 2, 2, 2, 2, 2, 2,\n",
       "       2, 2, 2, 2, 2, 2, 2, 2, 2, 2, 2, 2, 2, 2, 2, 2, 2, 2, 2, 2, 2, 2,\n",
       "       2, 2, 2, 2, 2, 2, 2, 2, 2, 2, 2, 2, 2, 2, 2, 2, 2, 2])"
      ]
     },
     "execution_count": 11,
     "metadata": {},
     "output_type": "execute_result"
    }
   ],
   "source": [
    "label"
   ]
  },
  {
   "attachments": {},
   "cell_type": "markdown",
   "metadata": {},
   "source": [
    "* iris data set의 target 값들은 이진이 아니다.\n",
    "* target 값은 0,1,2로 이루어져 있다.\n",
    "* precision, recall은 target 값이 이진이 아니면 계산 시 문제가 생긴다."
   ]
  },
  {
   "attachments": {},
   "cell_type": "markdown",
   "metadata": {},
   "source": [
    "### K-fold의 문제점\n",
    "* target(정답) 비중이 랜덤하게 나눠지기 때문에 target 값에는 {0,1,2}가 존재하는데, K-fold로 나눴을 때 target 값이 {0},{1},{2},{0,1},{0,2},{1,2} 식으로 나눠질 수 있다."
   ]
  },
  {
   "cell_type": "code",
   "execution_count": 14,
   "metadata": {},
   "outputs": [
    {
     "name": "stdout",
     "output_type": "stream",
     "text": [
      "0    50\n",
      "1    50\n",
      "2    50\n",
      "Name: target, dtype: int64\n"
     ]
    }
   ],
   "source": [
    "kfold_iris_data=load_iris()\n",
    "kfold_iris_data_df=pd.DataFrame(data=kfold_iris_data.data,columns=kfold_iris_data.feature_names)\n",
    "kfold_iris_data_df['target']=kfold_iris_data.target\n",
    "print(kfold_iris_data_df['target'].value_counts())"
   ]
  },
  {
   "attachments": {},
   "cell_type": "markdown",
   "metadata": {},
   "source": [
    "### K-fold 문제점 확인"
   ]
  },
  {
   "cell_type": "code",
   "execution_count": 17,
   "metadata": {},
   "outputs": [
    {
     "data": {
      "text/plain": [
       "<generator object _BaseKFold.split at 0x000001D2C17463C0>"
      ]
     },
     "execution_count": 17,
     "metadata": {},
     "output_type": "execute_result"
    }
   ],
   "source": [
    "kfold_iris=KFold(n_splits=3)\n",
    "kfold_iris.split(kfold_iris_data_df)\n"
   ]
  },
  {
   "cell_type": "code",
   "execution_count": 18,
   "metadata": {},
   "outputs": [
    {
     "data": {
      "text/html": [
       "<div>\n",
       "<style scoped>\n",
       "    .dataframe tbody tr th:only-of-type {\n",
       "        vertical-align: middle;\n",
       "    }\n",
       "\n",
       "    .dataframe tbody tr th {\n",
       "        vertical-align: top;\n",
       "    }\n",
       "\n",
       "    .dataframe thead th {\n",
       "        text-align: right;\n",
       "    }\n",
       "</style>\n",
       "<table border=\"1\" class=\"dataframe\">\n",
       "  <thead>\n",
       "    <tr style=\"text-align: right;\">\n",
       "      <th></th>\n",
       "      <th>sepal length (cm)</th>\n",
       "      <th>sepal width (cm)</th>\n",
       "      <th>petal length (cm)</th>\n",
       "      <th>petal width (cm)</th>\n",
       "      <th>target</th>\n",
       "    </tr>\n",
       "  </thead>\n",
       "  <tbody>\n",
       "    <tr>\n",
       "      <th>0</th>\n",
       "      <td>5.1</td>\n",
       "      <td>3.5</td>\n",
       "      <td>1.4</td>\n",
       "      <td>0.2</td>\n",
       "      <td>0</td>\n",
       "    </tr>\n",
       "    <tr>\n",
       "      <th>1</th>\n",
       "      <td>4.9</td>\n",
       "      <td>3.0</td>\n",
       "      <td>1.4</td>\n",
       "      <td>0.2</td>\n",
       "      <td>0</td>\n",
       "    </tr>\n",
       "    <tr>\n",
       "      <th>2</th>\n",
       "      <td>4.7</td>\n",
       "      <td>3.2</td>\n",
       "      <td>1.3</td>\n",
       "      <td>0.2</td>\n",
       "      <td>0</td>\n",
       "    </tr>\n",
       "    <tr>\n",
       "      <th>3</th>\n",
       "      <td>4.6</td>\n",
       "      <td>3.1</td>\n",
       "      <td>1.5</td>\n",
       "      <td>0.2</td>\n",
       "      <td>0</td>\n",
       "    </tr>\n",
       "    <tr>\n",
       "      <th>4</th>\n",
       "      <td>5.0</td>\n",
       "      <td>3.6</td>\n",
       "      <td>1.4</td>\n",
       "      <td>0.2</td>\n",
       "      <td>0</td>\n",
       "    </tr>\n",
       "    <tr>\n",
       "      <th>...</th>\n",
       "      <td>...</td>\n",
       "      <td>...</td>\n",
       "      <td>...</td>\n",
       "      <td>...</td>\n",
       "      <td>...</td>\n",
       "    </tr>\n",
       "    <tr>\n",
       "      <th>145</th>\n",
       "      <td>6.7</td>\n",
       "      <td>3.0</td>\n",
       "      <td>5.2</td>\n",
       "      <td>2.3</td>\n",
       "      <td>2</td>\n",
       "    </tr>\n",
       "    <tr>\n",
       "      <th>146</th>\n",
       "      <td>6.3</td>\n",
       "      <td>2.5</td>\n",
       "      <td>5.0</td>\n",
       "      <td>1.9</td>\n",
       "      <td>2</td>\n",
       "    </tr>\n",
       "    <tr>\n",
       "      <th>147</th>\n",
       "      <td>6.5</td>\n",
       "      <td>3.0</td>\n",
       "      <td>5.2</td>\n",
       "      <td>2.0</td>\n",
       "      <td>2</td>\n",
       "    </tr>\n",
       "    <tr>\n",
       "      <th>148</th>\n",
       "      <td>6.2</td>\n",
       "      <td>3.4</td>\n",
       "      <td>5.4</td>\n",
       "      <td>2.3</td>\n",
       "      <td>2</td>\n",
       "    </tr>\n",
       "    <tr>\n",
       "      <th>149</th>\n",
       "      <td>5.9</td>\n",
       "      <td>3.0</td>\n",
       "      <td>5.1</td>\n",
       "      <td>1.8</td>\n",
       "      <td>2</td>\n",
       "    </tr>\n",
       "  </tbody>\n",
       "</table>\n",
       "<p>150 rows × 5 columns</p>\n",
       "</div>"
      ],
      "text/plain": [
       "     sepal length (cm)  sepal width (cm)  petal length (cm)  petal width (cm)  \\\n",
       "0                  5.1               3.5                1.4               0.2   \n",
       "1                  4.9               3.0                1.4               0.2   \n",
       "2                  4.7               3.2                1.3               0.2   \n",
       "3                  4.6               3.1                1.5               0.2   \n",
       "4                  5.0               3.6                1.4               0.2   \n",
       "..                 ...               ...                ...               ...   \n",
       "145                6.7               3.0                5.2               2.3   \n",
       "146                6.3               2.5                5.0               1.9   \n",
       "147                6.5               3.0                5.2               2.0   \n",
       "148                6.2               3.4                5.4               2.3   \n",
       "149                5.9               3.0                5.1               1.8   \n",
       "\n",
       "     target  \n",
       "0         0  \n",
       "1         0  \n",
       "2         0  \n",
       "3         0  \n",
       "4         0  \n",
       "..      ...  \n",
       "145       2  \n",
       "146       2  \n",
       "147       2  \n",
       "148       2  \n",
       "149       2  \n",
       "\n",
       "[150 rows x 5 columns]"
      ]
     },
     "execution_count": 18,
     "metadata": {},
     "output_type": "execute_result"
    }
   ],
   "source": [
    "kfold_iris_data_df"
   ]
  },
  {
   "cell_type": "code",
   "execution_count": 21,
   "metadata": {},
   "outputs": [
    {
     "name": "stdout",
     "output_type": "stream",
     "text": [
      "교차검증 :1\n",
      "학습 lablel data 분포\n",
      " 1    50\n",
      "2    50\n",
      "Name: target, dtype: int64\n",
      "검증 label data 분포 \n",
      " 0    50\n",
      "Name: target, dtype: int64\n",
      "교차검증 :2\n",
      "학습 lablel data 분포\n",
      " 0    50\n",
      "2    50\n",
      "Name: target, dtype: int64\n",
      "검증 label data 분포 \n",
      " 1    50\n",
      "Name: target, dtype: int64\n",
      "교차검증 :3\n",
      "학습 lablel data 분포\n",
      " 0    50\n",
      "1    50\n",
      "Name: target, dtype: int64\n",
      "검증 label data 분포 \n",
      " 2    50\n",
      "Name: target, dtype: int64\n"
     ]
    }
   ],
   "source": [
    "cnt_iter=0\n",
    "for train_idx,test_idx in kfold_iris.split(kfold_iris_data_df):\n",
    "  cnt_iter+=1\n",
    "  label_train=kfold_iris_data_df['target'].iloc[train_idx]\n",
    "  label_test=kfold_iris_data_df['target'].iloc[test_idx]\n",
    "  print('교차검증 :{}'.format(cnt_iter))\n",
    "  print('학습 lablel data 분포\\n', label_train.value_counts())\n",
    "  print('검증 label data 분포 \\n', label_test.value_counts())\n",
    "  "
   ]
  },
  {
   "attachments": {},
   "cell_type": "markdown",
   "metadata": {},
   "source": [
    "* K-fold를 사용할 때,이진 외 다중 분류와 같은 경우\n",
    "* target 값을 동일한 비율로 가져가서 kfold 시 데이터가 한 쪽으로 몰리지 않도록 할 수 있다."
   ]
  },
  {
   "attachments": {},
   "cell_type": "markdown",
   "metadata": {},
   "source": [
    "### StratifiedKfold\n",
    "* 분류 문제에서만 정답에 대한 이슈가 발생할 것.\n",
    "* {0,1},{0,1,2} 건 분류에 대한 클래스의 불균형은 대부분 범주형 정답에 나올 것임.\n",
    "* 회귀 문제와 같은 연속형 변수는 의미가 없다. (=회귀 문제 예측에서는 쓰지 않음.)"
   ]
  },
  {
   "cell_type": "code",
   "execution_count": null,
   "metadata": {},
   "outputs": [],
   "source": []
  }
 ],
 "metadata": {
  "kernelspec": {
   "display_name": "statenv",
   "language": "python",
   "name": "statenv"
  },
  "language_info": {
   "codemirror_mode": {
    "name": "ipython",
    "version": 3
   },
   "file_extension": ".py",
   "mimetype": "text/x-python",
   "name": "python",
   "nbconvert_exporter": "python",
   "pygments_lexer": "ipython3",
   "version": "3.8.16"
  },
  "orig_nbformat": 4
 },
 "nbformat": 4,
 "nbformat_minor": 2
}
