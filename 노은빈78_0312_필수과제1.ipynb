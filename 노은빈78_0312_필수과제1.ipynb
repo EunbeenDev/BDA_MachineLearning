{
 "cells": [
  {
   "attachments": {},
   "cell_type": "markdown",
   "metadata": {},
   "source": [
    "### 필수과제1. kfold, skf를 사용시 average가 총 3개가 나왔다.\n",
    "- micro\n",
    "- macro\n",
    "- weighted \n",
    "\n",
    "- 이 세 개의 차이점 개념 정리\n",
    "- 직접 코드로 작성해서 정확도, 정밀도, 재현율이 어떻게 달라지는지 비교\n",
    "- iris 데이터를 가지고 진행"
   ]
  },
  {
   "attachments": {},
   "cell_type": "markdown",
   "metadata": {},
   "source": [
    "### average 개념정리"
   ]
  },
  {
   "attachments": {},
   "cell_type": "markdown",
   "metadata": {},
   "source": [
    "### 1. 'micro'\n",
    "* 전체의 평균을 구하는 방법"
   ]
  },
  {
   "attachments": {},
   "cell_type": "markdown",
   "metadata": {},
   "source": [
    "### 2. 'macro'\n",
    "* 평균의 평균을 구하는 방법"
   ]
  },
  {
   "attachments": {},
   "cell_type": "markdown",
   "metadata": {},
   "source": [
    "### 3. 'weighted'\n",
    "* 그냥 평균을 계산하는 것이 아니라 각 class에 해당하는 data의 개수에 가중치를 주어 평균을 구하는 방법"
   ]
  },
  {
   "attachments": {},
   "cell_type": "markdown",
   "metadata": {},
   "source": [
    "클래스 불균형(Imbalance) 문제가 있는 데이터셋에서는 Micro-average가 조금 더 효과적인 평가지표가 된다."
   ]
  },
  {
   "attachments": {},
   "cell_type": "markdown",
   "metadata": {},
   "source": [
    "### Code"
   ]
  },
  {
   "cell_type": "code",
   "execution_count": 75,
   "metadata": {},
   "outputs": [],
   "source": [
    "from sklearn.datasets import load_iris\n",
    "from sklearn.tree import DecisionTreeClassifier\n",
    "from sklearn.model_selection import train_test_split\n",
    "from sklearn.metrics import accuracy_score, precision_score, recall_score \n",
    "from sklearn.model_selection import KFold\n",
    "from sklearn.metrics import classification_report\n",
    "import numpy as np\n",
    "import pandas as pd"
   ]
  },
  {
   "attachments": {},
   "cell_type": "markdown",
   "metadata": {},
   "source": [
    "### Kfold"
   ]
  },
  {
   "cell_type": "code",
   "execution_count": 76,
   "metadata": {},
   "outputs": [],
   "source": [
    "fold_iris=load_iris()\n",
    "features=fold_iris.data\n",
    "\n",
    "label=fold_iris.target\n",
    "fold_df_clf=DecisionTreeClassifier()\n"
   ]
  },
  {
   "cell_type": "code",
   "execution_count": 77,
   "metadata": {},
   "outputs": [],
   "source": [
    "kfold=KFold(n_splits=5)\n",
    "kfold.split(features)\n",
    "\n",
    "n_iter=0\n",
    "\n",
    "cv_micro_accuracy=[]\n",
    "cv_micro_precision=[]\n",
    "cv_micro_recall=[]\n",
    "\n",
    "cv_macro_accuracy=[]\n",
    "cv_macro_precision=[]\n",
    "cv_macro_recall=[]\n",
    "\n",
    "cv_weighted_accuracy=[]\n",
    "cv_weighted_precision=[]\n",
    "cv_weighted_recall=[]"
   ]
  },
  {
   "cell_type": "code",
   "execution_count": 78,
   "metadata": {},
   "outputs": [
    {
     "name": "stdout",
     "output_type": "stream",
     "text": [
      "1 average=micro 교차검증 정확도: 1.0, 교차검증 precision: 1.0, 교차검증 recall: 1.0\n",
      "1 average=macro 교차검증 정확도: 1.0, 교차검증 precision: 1.0, 교차검증 recall: 1.0\n",
      "1 average=weighted 교차검증 정확도: 1.0, 교차검증 precision: 1.0, 교차검증 recall: 1.0\n",
      "\n",
      "\n",
      "2 average=micro 교차검증 정확도: 0.96667, 교차검증 precision: 0.96667, 교차검증 recall: 0.96667\n",
      "2 average=macro 교차검증 정확도: 0.96667, 교차검증 precision: 0.66667, 교차검증 recall: 0.63333\n",
      "2 average=weighted 교차검증 정확도: 0.96667, 교차검증 precision: 1.0, 교차검증 recall: 0.96667\n",
      "\n",
      "\n",
      "3 average=micro 교차검증 정확도: 0.9, 교차검증 precision: 0.9, 교차검증 recall: 0.9\n",
      "3 average=macro 교차검증 정확도: 0.9, 교차검증 precision: 0.5, 교차검증 recall: 0.45\n",
      "3 average=weighted 교차검증 정확도: 0.9, 교차검증 precision: 1.0, 교차검증 recall: 0.9\n",
      "\n",
      "\n",
      "4 average=micro 교차검증 정확도: 0.93333, 교차검증 precision: 0.93333, 교차검증 recall: 0.93333\n",
      "4 average=macro 교차검증 정확도: 0.93333, 교차검증 precision: 0.91667, 교차검증 recall: 0.95\n",
      "4 average=weighted 교차검증 정확도: 0.93333, 교차검증 precision: 0.94444, 교차검증 recall: 0.93333\n",
      "\n",
      "\n",
      "5 average=micro 교차검증 정확도: 0.76667, 교차검증 precision: 0.76667, 교차검증 recall: 0.76667\n",
      "5 average=macro 교차검증 정확도: 0.76667, 교차검증 precision: 0.5, 교차검증 recall: 0.38333\n",
      "5 average=weighted 교차검증 정확도: 0.76667, 교차검증 precision: 1.0, 교차검증 recall: 0.76667\n",
      "\n",
      "\n",
      "\n",
      "\n",
      "average=micro\n",
      "\n",
      " 평균정확도  0.76667\n",
      "\n",
      " 평균 검증 정확도 0.9133340000000001 0.9133340000000001\n",
      "\n",
      "\n",
      "average=macro\n",
      "\n",
      " 평균정확도  0.76667\n",
      "\n",
      " 평균 검증 정확도 0.9133340000000001 0.716668\n",
      "\n",
      "\n",
      "average=weighted\n",
      "\n",
      " 평균정확도  0.76667\n",
      "\n",
      " 평균 검증 정확도 0.9133340000000001 0.988888\n"
     ]
    },
    {
     "name": "stderr",
     "output_type": "stream",
     "text": [
      "C:\\Users\\ros43\\AppData\\Roaming\\Python\\Python38\\site-packages\\sklearn\\metrics\\_classification.py:1344: UndefinedMetricWarning: Recall is ill-defined and being set to 0.0 in labels with no true samples. Use `zero_division` parameter to control this behavior.\n",
      "  _warn_prf(average, modifier, msg_start, len(result))\n",
      "C:\\Users\\ros43\\AppData\\Roaming\\Python\\Python38\\site-packages\\sklearn\\metrics\\_classification.py:1344: UndefinedMetricWarning: Recall is ill-defined and being set to 0.0 in labels with no true samples. Use `zero_division` parameter to control this behavior.\n",
      "  _warn_prf(average, modifier, msg_start, len(result))\n",
      "C:\\Users\\ros43\\AppData\\Roaming\\Python\\Python38\\site-packages\\sklearn\\metrics\\_classification.py:1344: UndefinedMetricWarning: Recall is ill-defined and being set to 0.0 in labels with no true samples. Use `zero_division` parameter to control this behavior.\n",
      "  _warn_prf(average, modifier, msg_start, len(result))\n",
      "C:\\Users\\ros43\\AppData\\Roaming\\Python\\Python38\\site-packages\\sklearn\\metrics\\_classification.py:1344: UndefinedMetricWarning: Recall is ill-defined and being set to 0.0 in labels with no true samples. Use `zero_division` parameter to control this behavior.\n",
      "  _warn_prf(average, modifier, msg_start, len(result))\n",
      "C:\\Users\\ros43\\AppData\\Roaming\\Python\\Python38\\site-packages\\sklearn\\metrics\\_classification.py:1344: UndefinedMetricWarning: Recall is ill-defined and being set to 0.0 in labels with no true samples. Use `zero_division` parameter to control this behavior.\n",
      "  _warn_prf(average, modifier, msg_start, len(result))\n",
      "C:\\Users\\ros43\\AppData\\Roaming\\Python\\Python38\\site-packages\\sklearn\\metrics\\_classification.py:1344: UndefinedMetricWarning: Recall is ill-defined and being set to 0.0 in labels with no true samples. Use `zero_division` parameter to control this behavior.\n",
      "  _warn_prf(average, modifier, msg_start, len(result))\n"
     ]
    },
    {
     "data": {
      "text/plain": [
       "(None, 0.9133340000000001)"
      ]
     },
     "execution_count": 78,
     "metadata": {},
     "output_type": "execute_result"
    }
   ],
   "source": [
    "for train_idx, test_idx in kfold.split(features):\n",
    "  X_train, X_test=features[train_idx], features[test_idx]\n",
    "  \n",
    "  y_train, y_test=label[train_idx],label[test_idx]\n",
    "  \n",
    "  #train\n",
    "  fold_df_clf.fit(X_train, y_train)\n",
    "  \n",
    "  #predict\n",
    "  fold_pred=fold_df_clf.predict(X_test)\n",
    "  \n",
    "  #정확도 측정\n",
    "  n_iter+=1\n",
    "  \n",
    "  micro_accuracy=np.round(accuracy_score(y_test,fold_pred),5)\n",
    "  micro_precision=np.round(precision_score(y_test,fold_pred,average='micro'),5)\n",
    "  micro_recall=np.round(recall_score(y_test,fold_pred,average='micro'),5)\n",
    "  print('{} average=micro 교차검증 정확도: {}, 교차검증 precision: {}, 교차검증 recall: {}'.format(n_iter,micro_accuracy,micro_precision,micro_recall))\n",
    "  \n",
    "  cv_micro_accuracy.append(micro_accuracy)\n",
    "  cv_micro_precision.append(micro_precision)\n",
    "  cv_micro_recall.append(micro_recall)\n",
    "  \n",
    "  \n",
    "  macro_accuracy=np.round(accuracy_score(y_test,fold_pred),5)\n",
    "  macro_precision=np.round(precision_score(y_test,fold_pred,average='macro'),5)\n",
    "  macro_recall=np.round(recall_score(y_test,fold_pred,average='macro'),5)\n",
    "  print('{} average=macro 교차검증 정확도: {}, 교차검증 precision: {}, 교차검증 recall: {}'.format(n_iter,macro_accuracy,macro_precision,macro_recall))\n",
    "  \n",
    "  cv_macro_accuracy.append(macro_accuracy)\n",
    "  cv_macro_precision.append(macro_precision)\n",
    "  cv_macro_recall.append(macro_recall)\n",
    "  \n",
    "  \n",
    "  weighted_accuracy=np.round(accuracy_score(y_test,fold_pred),5)\n",
    "  weighted_precision=np.round(precision_score(y_test,fold_pred,average='weighted'),5)\n",
    "  weighted_recall=np.round(recall_score(y_test,fold_pred,average='weighted'),5)\n",
    "  print('{} average=weighted 교차검증 정확도: {}, 교차검증 precision: {}, 교차검증 recall: {}'.format(n_iter,weighted_accuracy,weighted_precision,weighted_recall))\n",
    "  \n",
    "  cv_weighted_accuracy.append(weighted_accuracy)\n",
    "  cv_weighted_precision.append(weighted_precision)\n",
    "  cv_weighted_recall.append(weighted_recall)\n",
    "  \n",
    "  print('\\n')\n",
    "\n",
    "print('\\n')\n",
    "print(\"average=micro\")\n",
    "print('\\n 평균정확도 ',np.mean(micro_accuracy))\n",
    "print('\\n 평균 검증 정확도', np.mean(cv_micro_accuracy),np.mean(cv_micro_precision)),np.mean(cv_micro_recall)\n",
    "\n",
    "print('\\n')\n",
    "print(\"average=macro\")\n",
    "print('\\n 평균정확도 ',np.mean(macro_accuracy))\n",
    "print('\\n 평균 검증 정확도', np.mean(cv_macro_accuracy),np.mean(cv_macro_precision)),np.mean(cv_macro_recall)\n",
    "\n",
    "print('\\n')\n",
    "print(\"average=weighted\")\n",
    "print('\\n 평균정확도 ',np.mean(weighted_accuracy))\n",
    "print('\\n 평균 검증 정확도', np.mean(cv_weighted_accuracy),np.mean(cv_weighted_precision)),np.mean(cv_weighted_recall)"
   ]
  },
  {
   "attachments": {},
   "cell_type": "markdown",
   "metadata": {},
   "source": [
    "### SKfold"
   ]
  },
  {
   "cell_type": "code",
   "execution_count": 79,
   "metadata": {},
   "outputs": [],
   "source": [
    "from sklearn.model_selection import StratifiedKFold"
   ]
  },
  {
   "cell_type": "code",
   "execution_count": 80,
   "metadata": {},
   "outputs": [],
   "source": [
    "skf_iris=StratifiedKFold(n_splits=3)\n",
    "cnt_iter=0\n",
    "\n",
    "result_skfold=StratifiedKFold(n_splits=3)\n",
    "result_clf=DecisionTreeClassifier(random_state=100)\n",
    "n_iter=0\n",
    "\n",
    "cv_micro_accuracy=[]\n",
    "cv_micro_precision=[]\n",
    "cv_micro_recall=[]\n",
    "\n",
    "cv_macro_accuracy=[]\n",
    "cv_macro_precision=[]\n",
    "cv_macro_recall=[]\n",
    "\n",
    "cv_weighted_accuracy=[]\n",
    "cv_weighted_precision=[]\n",
    "cv_weighted_recall=[]"
   ]
  },
  {
   "cell_type": "code",
   "execution_count": 81,
   "metadata": {},
   "outputs": [
    {
     "name": "stdout",
     "output_type": "stream",
     "text": [
      "1 average=micro 교차검증 정확도 : 0.98, 교차검증 precision :0.98, 교차검증 recall :0.98\n",
      "1 average=macro 교차검증 정확도 : 0.98, 교차검증 precision :0.981, 교차검증 recall :0.979\n",
      "1 average=weighted 교차검증 정확도 : 0.98, 교차검증 precision :0.981, 교차검증 recall :0.98\n",
      "\n",
      "\n",
      "2 average=micro 교차검증 정확도 : 0.92, 교차검증 precision :0.92, 교차검증 recall :0.92\n",
      "2 average=macro 교차검증 정확도 : 0.92, 교차검증 precision :0.919, 교차검증 recall :0.919\n",
      "2 average=weighted 교차검증 정확도 : 0.92, 교차검증 precision :0.92, 교차검증 recall :0.92\n",
      "\n",
      "\n",
      "3 average=micro 교차검증 정확도 : 0.96, 교차검증 precision :0.96, 교차검증 recall :0.96\n",
      "3 average=macro 교차검증 정확도 : 0.96, 교차검증 precision :0.961, 교차검증 recall :0.961\n",
      "3 average=weighted 교차검증 정확도 : 0.96, 교차검증 precision :0.96, 교차검증 recall :0.96\n",
      "\n",
      "\n",
      "average=micro\n",
      "\n",
      " 평균정확도  0.96\n",
      "\n",
      " 평균 검증 정확도 0.9533333333333333 0.9533333333333333\n",
      "\n",
      "\n",
      "average=macro\n",
      "\n",
      " 평균정확도  0.96\n",
      "\n",
      " 평균 검증 정확도 0.9533333333333333 0.9536666666666666\n",
      "\n",
      "\n",
      "average=weighted\n",
      "\n",
      " 평균정확도  0.96\n",
      "\n",
      " 평균 검증 정확도 0.9533333333333333 0.9536666666666666\n"
     ]
    },
    {
     "data": {
      "text/plain": [
       "(None, 0.9533333333333333)"
      ]
     },
     "execution_count": 81,
     "metadata": {},
     "output_type": "execute_result"
    }
   ],
   "source": [
    "for train_idx, test_idx in result_skfold.split(features,label):\n",
    "  X_train, X_test=features[train_idx], features[test_idx]\n",
    "  \n",
    "  y_train, y_test=label[train_idx], label[test_idx]\n",
    "  \n",
    "  #train\n",
    "  result_clf.fit(X_train, y_train)\n",
    "  #predict\n",
    "  pred=result_clf.predict(X_test)\n",
    "  \n",
    "  #정확도 관련 측정\n",
    "  n_iter+=1\n",
    "  micro_accuracy=np.round(accuracy_score(y_test, pred),3)\n",
    "  micro_precision=np.round(precision_score(y_test,pred,average='micro'),3)\n",
    "  micro_recall=np.round(recall_score(y_test,pred,average='micro'),3)\n",
    "  print('{} average=micro 교차검증 정확도 : {}, 교차검증 precision :{}, 교차검증 recall :{}'.format(n_iter,micro_accuracy,micro_precision,micro_recall))\n",
    "  cv_micro_accuracy.append(micro_accuracy)\n",
    "  cv_micro_precision.append(micro_precision)\n",
    "  cv_micro_recall.append(micro_recall)\n",
    "  \n",
    "  macro_accuracy=np.round(accuracy_score(y_test, pred),3)\n",
    "  macro_precision=np.round(precision_score(y_test,pred,average='macro'),3)\n",
    "  macro_recall=np.round(recall_score(y_test,pred,average='macro'),3)\n",
    "  print('{} average=macro 교차검증 정확도 : {}, 교차검증 precision :{}, 교차검증 recall :{}'.format(n_iter,macro_accuracy,macro_precision,macro_recall))\n",
    "  cv_macro_accuracy.append(macro_accuracy)\n",
    "  cv_macro_precision.append(macro_precision)\n",
    "  cv_macro_recall.append(macro_recall)\n",
    "  \n",
    "  weighted_accuracy=np.round(accuracy_score(y_test, pred),3)\n",
    "  weighted_precision=np.round(precision_score(y_test,pred,average='weighted'),3)\n",
    "  weighted_recall=np.round(recall_score(y_test,pred,average='weighted'),3)\n",
    "  print('{} average=weighted 교차검증 정확도 : {}, 교차검증 precision :{}, 교차검증 recall :{}'.format(n_iter,weighted_accuracy,weighted_precision,weighted_recall))\n",
    "  cv_weighted_accuracy.append(weighted_accuracy)\n",
    "  cv_weighted_precision.append(weighted_precision)\n",
    "  cv_weighted_recall.append(weighted_recall)\n",
    "  \n",
    "  print('\\n')\n",
    "\n",
    "print(\"average=micro\")\n",
    "print('\\n 평균정확도 ',np.mean(micro_accuracy))\n",
    "print('\\n 평균 검증 정확도', np.mean(cv_micro_accuracy),np.mean(cv_micro_precision)),np.mean(cv_micro_recall)\n",
    "\n",
    "print('\\n')\n",
    "print(\"average=macro\")\n",
    "print('\\n 평균정확도 ',np.mean(macro_accuracy))\n",
    "print('\\n 평균 검증 정확도', np.mean(cv_macro_accuracy),np.mean(cv_macro_precision)),np.mean(cv_macro_recall)\n",
    "\n",
    "print('\\n')\n",
    "print(\"average=weighted\")\n",
    "print('\\n 평균정확도 ',np.mean(weighted_accuracy))\n",
    "print('\\n 평균 검증 정확도', np.mean(cv_weighted_accuracy),np.mean(cv_weighted_precision)),np.mean(cv_weighted_recall)"
   ]
  }
 ],
 "metadata": {
  "kernelspec": {
   "display_name": "statenv",
   "language": "python",
   "name": "statenv"
  },
  "language_info": {
   "codemirror_mode": {
    "name": "ipython",
    "version": 3
   },
   "file_extension": ".py",
   "mimetype": "text/x-python",
   "name": "python",
   "nbconvert_exporter": "python",
   "pygments_lexer": "ipython3",
   "version": "3.8.16"
  },
  "orig_nbformat": 4
 },
 "nbformat": 4,
 "nbformat_minor": 2
}
