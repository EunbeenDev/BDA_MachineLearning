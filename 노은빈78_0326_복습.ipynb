{
 "cells": [
  {
   "cell_type": "markdown",
   "metadata": {},
   "source": [
    "### 정밀도/재현율 trade-off\n",
    "* 사이킷런은 / (이진)분류 알고리즘은\n",
    "* 특정 label(1,0)에 속하는지 계산하기 위해 label 결정 확률을 구한다.\n",
    "* 이진 분류시 임계값을 조절할 때 binarizer(threshold=값)을 통해 조정 가능하다."
   ]
  },
  {
   "attachments": {},
   "cell_type": "markdown",
   "metadata": {},
   "source": [
    "### 정밀도와 재현율이 중요한 지표로 사용되는 상황\n",
    "##### \n",
    "#### 재현율이 즁요한 상황\n",
    "* 실제 positive(양성) data를 negative로 잘못 판단하게 되면 문제가 되는 경우\n",
    "* 예) 암환자 판단 - 양성 암 환자를 양성이 아닌 음성으로 판단하는 경우 등\n",
    "* 보험사기/대출사기 - 1인 사기건을 0으로 판단하는 경우\n",
    "* 0을 잘못하여 1로 판단하는 경우, cost가 많이 발생하게 된다.\n",
    "##### \n",
    "#### 정밀도가 중요한 상황\n",
    "* 스팸메일 판단/분류 - positive인 스팸메일을 negative로 분류하게 되면, 유저 입장에서는 스팸메일을 한 번 보면 된다.\n",
    "* 하지만, negative인 일반메일을 positive인 스팸메일로 분류하게 되면, 큰 이슈가 발생하게 된다.\n"
   ]
  },
  {
   "attachments": {},
   "cell_type": "markdown",
   "metadata": {},
   "source": [
    "### F1 Score\n",
    "* 정밀도와 재현율을 결합한 지표\n",
    "* 어느 한 쪽으로 치우치지 않은 수치를 나타낼 때 진행"
   ]
  },
  {
   "cell_type": "code",
   "execution_count": 4,
   "metadata": {},
   "outputs": [],
   "source": [
    "def f_1(pr,re):\n",
    "  return (2*((pr*re)/(pr+re)))"
   ]
  },
  {
   "attachments": {},
   "cell_type": "markdown",
   "metadata": {},
   "source": [
    "### 머신러닝 결과 해석\n",
    "* pr 0.9, re 1.0 \n",
    "* pr 0.5, re 0.5 중 무엇이 성능이 더 좋다고 볼 수 있는가?\n",
    "* -> 후자의 경우가 성능이 더 좋다고 볼 수 있다."
   ]
  },
  {
   "cell_type": "code",
   "execution_count": 5,
   "metadata": {},
   "outputs": [
    {
     "data": {
      "text/plain": [
       "0.5"
      ]
     },
     "execution_count": 5,
     "metadata": {},
     "output_type": "execute_result"
    }
   ],
   "source": [
    "f_1(0.5,0.5)"
   ]
  },
  {
   "cell_type": "code",
   "execution_count": 6,
   "metadata": {},
   "outputs": [
    {
     "data": {
      "text/plain": [
       "0.18000000000000002"
      ]
     },
     "execution_count": 6,
     "metadata": {},
     "output_type": "execute_result"
    }
   ],
   "source": [
    "f_1(0.9,0.1)"
   ]
  },
  {
   "attachments": {},
   "cell_type": "markdown",
   "metadata": {},
   "source": [
    "### ROC Curve & AUC Score\n",
    "* 이진 분류 예측에서 사용\n",
    "#### ROC Curve(Reciever Operation Characteristic Curve)\n",
    "* FPR(False Positive Rate)가 변할 때 TPR(True positive Rate)이 어떻게 변하는지 나타내는 곡선\n",
    "* x=FPR, y=TPR(재현율, 민감도) \n",
    "##### Specificility(특이성)-민감도에 대응하는 특이성 지표(1 - 재현율,민감도) \n",
    "* 민감도,특이성 지표 값이 정확히 예측되어야 하는 수준\n",
    "* FPR = FP/(FP+TN) = 1-TNR = 1-특이성 \n",
    "#### AUC Score(Area Under Curve)\n",
    "* 이진 분류의 예측 성능 측정에 중요하게 사용되는 지표이다.\n",
    "* FPR, TPR 변화의 값을 보는 데 이용 (분류의 성능 지표로 사용되는 건 ROC 곡선 면적에 기반한 AUC 값)\n",
    "* 밑 면적이 1에 가까울수록 좋은 수치이다.\n",
    "* AUC가 큰 값을 가지려면, FPR 작은 상태에서 가장 높은 TPR이 나와야 한다."
   ]
  }
 ],
 "metadata": {
  "kernelspec": {
   "display_name": "statenv",
   "language": "python",
   "name": "statenv"
  },
  "language_info": {
   "codemirror_mode": {
    "name": "ipython",
    "version": 3
   },
   "file_extension": ".py",
   "mimetype": "text/x-python",
   "name": "python",
   "nbconvert_exporter": "python",
   "pygments_lexer": "ipython3",
   "version": "3.8.16"
  },
  "orig_nbformat": 4
 },
 "nbformat": 4,
 "nbformat_minor": 2
}
